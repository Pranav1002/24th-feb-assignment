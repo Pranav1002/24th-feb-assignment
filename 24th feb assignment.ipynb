{
 "cells": [
  {
   "cell_type": "markdown",
   "id": "9cb66818-602b-484d-bd7a-bc21f1145cdf",
   "metadata": {},
   "source": [
    "1) List any five functions of the pandas library with execution."
   ]
  },
  {
   "cell_type": "code",
   "execution_count": null,
   "id": "8f9e9d54-c966-4e0b-b7e0-be0d45aade79",
   "metadata": {},
   "outputs": [],
   "source": [
    "\n",
    "'''\n",
    "#(1) read_csv()\n",
    "import pandas as pd\n",
    "\n",
    "df = pd.read_csv('data.csv')\n",
    "print(df.head())\n",
    "\n",
    "#(2) info()\n",
    "df = pd.read_csv('data.csv')\n",
    "print(df.info())\n",
    "\n",
    "#(3) groupby()\n",
    "df = pd.read_csv('data.csv')\n",
    "grouped = df.groupby('category')['sales'].sum()\n",
    "print(grouped)\n",
    "\n",
    "#(4) drop()\n",
    "df = pd.read_csv('data.csv')\n",
    "new_df = df.drop(['column_name'], axis=1)\n",
    "print(new_df.head())\n",
    "\n",
    "#(5) merge()\n",
    "df1 = pd.read_csv('data1.csv')\n",
    "df2 = pd.read_csv('data2.csv')\n",
    "merged_df = pd.merge(df1, df2, on='common_column')\n",
    "print(merged_df.head())\n",
    "'''"
   ]
  },
  {
   "cell_type": "markdown",
   "id": "01a6ead7-2097-4190-9c1e-36b47038be40",
   "metadata": {},
   "source": [
    "2.Given a Pandas DataFrame df with columns 'A', 'B', and 'C', write a Python function to re-index the\n",
    "DataFrame with a new index that starts from 1 and increments by 2 for each row."
   ]
  },
  {
   "cell_type": "code",
   "execution_count": 2,
   "id": "943a37a0-7d5d-4c05-bd62-78dea46c6066",
   "metadata": {},
   "outputs": [
    {
     "data": {
      "text/plain": [
       "'\\nimport pandas as pd\\n\\ndef reindex_df(df):\\n    df.reset_index(drop=True, inplace=True)\\n    new_index = pd.RangeIndex(start=1, step=2, stop=len(df)*2)\\n    df.index = new_index\\n    \\n    return df\\n'"
      ]
     },
     "execution_count": 2,
     "metadata": {},
     "output_type": "execute_result"
    }
   ],
   "source": [
    "'''\n",
    "import pandas as pd\n",
    "\n",
    "def reindex_df(df):\n",
    "    df.reset_index(drop=True, inplace=True)\n",
    "    new_index = pd.RangeIndex(start=1, step=2, stop=len(df)*2)\n",
    "    df.index = new_index\n",
    "    \n",
    "    return df\n",
    "'''"
   ]
  },
  {
   "cell_type": "markdown",
   "id": "b21964fc-7d9f-41b8-9d66-435651851e43",
   "metadata": {},
   "source": [
    "   "
   ]
  },
  {
   "cell_type": "markdown",
   "id": "4083f909-0485-4eba-bd9a-acb2feed3618",
   "metadata": {},
   "source": [
    "3.You have a Pandas DataFrame df with a column named 'Values'. Write a Python function that\n",
    "iterates over the DataFrame and calculates the sum of the first three values in the 'Values' column. The\n",
    "function should print the sum to the console."
   ]
  },
  {
   "cell_type": "code",
   "execution_count": 5,
   "id": "84e47636-1c8d-4913-b019-f40fb3979d21",
   "metadata": {},
   "outputs": [
    {
     "data": {
      "text/plain": [
       "'\\ndef sum_first_three(df):\\n    total = df[\\'Values\\'].iloc[0:3].sum()\\n    print(\"Sum of the first three values:\", total)\\n'"
      ]
     },
     "execution_count": 5,
     "metadata": {},
     "output_type": "execute_result"
    }
   ],
   "source": [
    "'''\n",
    "def sum_first_three(df):\n",
    "    total = df['Values'].iloc[0:3].sum()\n",
    "    print(\"Sum of the first three values:\", total)\n",
    "'''"
   ]
  },
  {
   "cell_type": "markdown",
   "id": "a8f24697-7ece-4e08-82b8-dacd0fc82ba5",
   "metadata": {},
   "source": [
    "4. Given a Pandas DataFrame df with a column 'Text', write a Python function to create a new column\n",
    "'Word_Count' that contains the number of words in each row of the 'Text' column."
   ]
  },
  {
   "cell_type": "code",
   "execution_count": 6,
   "id": "fcc54ac8-67df-4808-a83a-bd0c7f68a761",
   "metadata": {},
   "outputs": [
    {
     "data": {
      "text/plain": [
       "\"\\ndef wordCount(df):\\n    df['word_count'] = df['Text'].apply(lambda x : len(str(x).split))\\n    return df\\n\""
      ]
     },
     "execution_count": 6,
     "metadata": {},
     "output_type": "execute_result"
    }
   ],
   "source": [
    "'''\n",
    "def wordCount(df):\n",
    "    df['word_count'] = df['Text'].apply(lambda x : len(str(x).split))\n",
    "    return df\n",
    "'''"
   ]
  },
  {
   "cell_type": "markdown",
   "id": "a38c8d86-cfe2-4a11-8065-7672a5a50569",
   "metadata": {},
   "source": [
    "  "
   ]
  },
  {
   "cell_type": "markdown",
   "id": "17e8fdb4-4509-4284-9cac-7be32b32afad",
   "metadata": {},
   "source": [
    "5.How are DataFrame.size() and DataFrame.shape() different?"
   ]
  },
  {
   "cell_type": "markdown",
   "id": "ddc68e9a-761c-4316-ae73-ea49a3c6792c",
   "metadata": {},
   "source": [
    "---> DataFrame.size: This attribute returns the total number of elements in the DataFrame, i.e., the number of rows multiplied by the number of columns.\n",
    "\n",
    "---> DataFrame.shape: This attribute returns a tuple that contains the number of rows and columns in the DataFrame, respectively."
   ]
  },
  {
   "cell_type": "markdown",
   "id": "00a14cfb-6361-4e25-bb2f-6bca9651e1f9",
   "metadata": {},
   "source": [
    "   "
   ]
  },
  {
   "cell_type": "markdown",
   "id": "10046ebf-efd0-4b53-8054-111d43ecdd4f",
   "metadata": {},
   "source": [
    "6. Which function of pandas do we use to read an excel file?\n",
    "\n",
    "---> read_excel() is used to read excel file.\n"
   ]
  },
  {
   "cell_type": "markdown",
   "id": "d2130493-cea4-4626-97b7-fdd9db90ae32",
   "metadata": {},
   "source": [
    "  "
   ]
  },
  {
   "cell_type": "markdown",
   "id": "c7229cda-d241-4a6a-9e7c-eaaaa3ba460f",
   "metadata": {},
   "source": [
    "7. You have a Pandas DataFrame df that contains a column named 'Email' that contains email\n",
    "addresses in the format 'username@domain.com'. Write a Python function that creates a new column\n",
    "'Username' in df that contains only the username part of each email address."
   ]
  },
  {
   "cell_type": "code",
   "execution_count": 1,
   "id": "bcffc575-f3ce-4525-b038-39dd179863d0",
   "metadata": {},
   "outputs": [
    {
     "data": {
      "text/plain": [
       "\"\\ndef getUsername(df):\\n    df['Username']=df['Email'].str.split('@').str[0]\\n    return df\\n    \\n\""
      ]
     },
     "execution_count": 1,
     "metadata": {},
     "output_type": "execute_result"
    }
   ],
   "source": [
    "'''\n",
    "def getUsername(df):\n",
    "    df['Username']=df['Email'].str.split('@').str[0]\n",
    "    return df\n",
    "    \n",
    "'''"
   ]
  },
  {
   "cell_type": "markdown",
   "id": "11df4829-d221-4f0b-a607-5f3c10d18c2c",
   "metadata": {},
   "source": [
    "  "
   ]
  },
  {
   "cell_type": "markdown",
   "id": "5a3f9ab2-06fe-4198-9910-3f609176ffa0",
   "metadata": {},
   "source": [
    "8.You have a Pandas DataFrame df with columns 'A', 'B', and 'C'. Write a Python function that selects\n",
    "all rows where the value in column 'A' is greater than 5 and the value in column 'B' is less than 10. The\n",
    "function should return a new DataFrame that contains only the selected rows."
   ]
  },
  {
   "cell_type": "code",
   "execution_count": 7,
   "id": "c9056f7b-13d8-4428-a6e7-11777a3b971a",
   "metadata": {},
   "outputs": [
    {
     "name": "stdout",
     "output_type": "stream",
     "text": [
      "   A  B  C\n",
      "1  8  2  7\n",
      "2  6  9  4\n",
      "4  9  1  2\n"
     ]
    }
   ],
   "source": [
    "import pandas as pd\n",
    "\n",
    "def reduceData(df):\n",
    "    df1 = df[(df['A']>5) & (df['B']<10)]\n",
    "    \n",
    "    return df1\n",
    "\n",
    "\n",
    "\n",
    "data = [[3, 5, 1],[8, 2, 7], [6, 9, 4], [2, 3, 5], [9, 1, 2]]\n",
    "\n",
    "df = pd.DataFrame(data,columns=['A','B','C'])\n",
    "\n",
    "df1 = reduceData(df)\n",
    "\n",
    "print(df1)"
   ]
  },
  {
   "cell_type": "markdown",
   "id": "fc1b80d9-1766-4b83-bb5a-e0f017969e8f",
   "metadata": {},
   "source": [
    "  "
   ]
  },
  {
   "cell_type": "markdown",
   "id": "1b57dccc-0cc7-49ae-874e-222bf1f20850",
   "metadata": {},
   "source": [
    "  "
   ]
  },
  {
   "cell_type": "markdown",
   "id": "4d7d7316-68af-471c-8d97-83db06257af8",
   "metadata": {},
   "source": [
    "9. Given a Pandas DataFrame df with a column 'Values', write a Python function to calculate the mean,\n",
    "median, and standard deviation of the values in the 'Values' column."
   ]
  },
  {
   "cell_type": "code",
   "execution_count": 2,
   "id": "a07ccd94-ccfa-4343-892b-36f0da1d85f9",
   "metadata": {},
   "outputs": [
    {
     "data": {
      "text/plain": [
       "\"\\ndef findSTD(df):\\n    mn = df['Values'].mean()\\n    med = df['Values'].median()\\n    stdev=df['Values'].std()\\n    \\n    print('Mean : 'mn)\\n    print('Median : 'mn)    \\n    print('Standard Deviation : 'mn)\\n\""
      ]
     },
     "execution_count": 2,
     "metadata": {},
     "output_type": "execute_result"
    }
   ],
   "source": [
    "'''\n",
    "def findSTD(df):\n",
    "    mn = df['Values'].mean()\n",
    "    med = df['Values'].median()\n",
    "    stdev=df['Values'].std()\n",
    "    \n",
    "    print('Mean : 'mn)\n",
    "    print('Median : 'mn)    \n",
    "    print('Standard Deviation : 'mn)\n",
    "'''"
   ]
  },
  {
   "cell_type": "markdown",
   "id": "5fc75e4d-42ba-4a4f-be4c-45f2a11bc494",
   "metadata": {},
   "source": [
    "10. Given a Pandas DataFrame df with a column 'Sales' and a column 'Date', write a Python function to\n",
    "create a new column 'MovingAverage' that contains the moving average of the sales for the past 7 days\n",
    "for each row in the DataFrame. The moving average should be calculated using a window of size 7 and\n",
    "should include the current day."
   ]
  },
  {
   "cell_type": "code",
   "execution_count": 3,
   "id": "abc831cd-1d9b-420e-85c8-ee5e1ed43f48",
   "metadata": {},
   "outputs": [
    {
     "data": {
      "text/plain": [
       "\"\\ndef fun(df):\\n    df['MovingAverage'] = df['Sales'].rolling(window=7, min_periods=1).mean()\\n    return df\\n\""
      ]
     },
     "execution_count": 3,
     "metadata": {},
     "output_type": "execute_result"
    }
   ],
   "source": [
    "'''\n",
    "def fun(df):\n",
    "    df['MovingAverage'] = df['Sales'].rolling(window=7, min_periods=1).mean()\n",
    "    return df\n",
    "'''"
   ]
  },
  {
   "cell_type": "markdown",
   "id": "8dcca06a-fa74-45d4-8047-d1d45efda45a",
   "metadata": {},
   "source": [
    "  "
   ]
  },
  {
   "cell_type": "markdown",
   "id": "0e4c9510-c2e6-4414-bd29-dff2ba1c979f",
   "metadata": {},
   "source": [
    "11. You have a Pandas DataFrame df with a column 'Date'. Write a Python function that creates a new\n",
    "column 'Weekday' in the DataFrame. The 'Weekday' column should contain the weekday name (e.g.\n",
    "Monday, Tuesday) corresponding to each date in the 'Date' column."
   ]
  },
  {
   "cell_type": "code",
   "execution_count": 4,
   "id": "4caa5334-0892-4d56-8e2c-e843ee146985",
   "metadata": {},
   "outputs": [
    {
     "name": "stdout",
     "output_type": "stream",
     "text": [
      "         Date    Weekday\n",
      "0  2023-01-01     Sunday\n",
      "1  2023-01-02     Monday\n",
      "2  2023-01-03    Tuesday\n",
      "3  2023-01-04  Wednesday\n",
      "4  2023-01-05   Thursday\n"
     ]
    }
   ],
   "source": [
    "import pandas as pd\n",
    "\n",
    "def weekDayName(df):\n",
    "    df['Weekday'] = pd.to_datetime(df['Date']).dt.day_name()\n",
    "    print(df)\n",
    "\n",
    "df = pd.DataFrame({'Date': ['2023-01-01', '2023-01-02','2023-01-03','2023-01-04','2023-01-05']})\n",
    "\n",
    "weekDayName(df)"
   ]
  },
  {
   "cell_type": "markdown",
   "id": "d9af7d77-9245-449a-8e05-33ac49e6b032",
   "metadata": {},
   "source": [
    "  "
   ]
  },
  {
   "cell_type": "markdown",
   "id": "9a65b514-7300-4ec0-a950-4fd17f381686",
   "metadata": {},
   "source": [
    "12. Given a Pandas DataFrame df with a column 'Date' that contains timestamps, write a Python\n",
    "function to select all rows where the date is between '2023-01-01' and '2023-01-31'."
   ]
  },
  {
   "cell_type": "code",
   "execution_count": 5,
   "id": "2198a940-950a-456e-8dc1-2de19b5735a4",
   "metadata": {},
   "outputs": [
    {
     "name": "stdout",
     "output_type": "stream",
     "text": [
      "        Date\n",
      "0 2023-01-01\n",
      "1 2023-01-02\n",
      "2 2023-01-03\n",
      "3 2023-01-04\n",
      "4 2023-01-05\n"
     ]
    }
   ],
   "source": [
    "def filterDate(df):\n",
    "    df['Date'] =  pd.to_datetime(df['Date'])\n",
    "    f = (df['Date'] >= '2023-01-01') & (df['Date'] <= '2023-01-31')\n",
    "    selected_rows = df.loc[f]\n",
    "    \n",
    "    print(selected_rows)\n",
    "\n",
    "df = pd.DataFrame({'Date': ['2023-01-01', '2023-01-02','2023-01-03','2023-01-04','2023-01-05']})\n",
    "\n",
    "filterDate(df)"
   ]
  },
  {
   "cell_type": "markdown",
   "id": "a28a51a3-8b1c-46b1-b948-597246402ac9",
   "metadata": {},
   "source": [
    "  "
   ]
  },
  {
   "cell_type": "markdown",
   "id": "bc12a98e-79ea-411d-adbc-69442074f746",
   "metadata": {},
   "source": [
    "13. To use the basic functions of pandas, what is the first and foremost necessary library that needs to be imported?\n",
    "\n",
    "---> pandas"
   ]
  },
  {
   "cell_type": "code",
   "execution_count": null,
   "id": "915c216a-7a7e-43a6-a90a-4003649c4094",
   "metadata": {},
   "outputs": [],
   "source": []
  }
 ],
 "metadata": {
  "kernelspec": {
   "display_name": "Python 3 (ipykernel)",
   "language": "python",
   "name": "python3"
  },
  "language_info": {
   "codemirror_mode": {
    "name": "ipython",
    "version": 3
   },
   "file_extension": ".py",
   "mimetype": "text/x-python",
   "name": "python",
   "nbconvert_exporter": "python",
   "pygments_lexer": "ipython3",
   "version": "3.10.6"
  }
 },
 "nbformat": 4,
 "nbformat_minor": 5
}
